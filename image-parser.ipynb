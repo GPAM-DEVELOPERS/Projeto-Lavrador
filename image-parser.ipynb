{
 "cells": [
  {
   "cell_type": "code",
   "execution_count": 2,
   "metadata": {
    "collapsed": false,
    "deletable": true,
    "editable": true
   },
   "outputs": [],
   "source": [
    "%matplotlib inline\n",
    "import numpy as np\n",
    "from skimage import io, exposure\n",
    "from matplotlib import pyplot as plt"
   ]
  },
  {
   "cell_type": "code",
   "execution_count": 3,
   "metadata": {
    "collapsed": true,
    "deletable": true,
    "editable": true
   },
   "outputs": [],
   "source": [
    "import os, re\n",
    "\n",
    "data_dir_name = 'LC08_L1TP_220071_20160409_20170326_01_T1'\n",
    "data_dir_path = './GPAM_dataset/LC08_L1TP_220071_20160409_20170326_01_T1/'\n",
    "\n",
    "def read_band(directory, n):\n",
    "    if n in range(1, 12):\n",
    "        band_name = directory + data_dir_name + '_B' + str(n) + '.TIF'\n",
    "        if (os.path.isfile(band_name)):\n",
    "            img = io.imread(band_name)\n",
    "            print('Image:', band_name)\n",
    "            return img\n",
    "        else:\n",
    "            print('Image:', band_name, 'not found!')\n",
    "    else:\n",
    "        print('Band number has to be in the range 1-11!')\n",
    "\n",
    "read_band(data_dir_path, 3)"
   ]
  },
  {
   "cell_type": "code",
   "execution_count": 1,
   "metadata": {
    "collapsed": true,
    "deletable": true,
    "editable": true
   },
   "outputs": [],
   "source": [
    "%%time\n",
    "def color_image_show(img, title):\n",
    "    fig = plt.figure(figsize=(10, 10))\n",
    "    fig.set_facecolor('white')\n",
    "    plt.imshow(img/65535)\n",
    "    plt.title(title)\n",
    "    plt.show()\n",
    "    \n",
    "color_image_show(read_band(data_dir_path, 5), 'Landsat 8 Imagery')"
   ]
  },
  {
   "cell_type": "code",
   "execution_count": null,
   "metadata": {
    "collapsed": true
   },
   "outputs": [],
   "source": [
    "b2 = read_band(data_dir_path, 2)\n",
    "b3 = read_band(data_dir_path, 3)\n",
    "b4 = read_band(data_dir_path, 4)\n",
    "\n",
    "img432 = np.dstack((b4, b3, b2))\n",
    "color_image_show(img432, '4-3-2 bands image')"
   ]
  },
  {
   "cell_type": "code",
   "execution_count": null,
   "metadata": {
    "collapsed": true
   },
   "outputs": [],
   "source": [
    "fig = plt.figure(figsize=(10, 7))\n",
    "fig.set_facecolor('white')\n",
    "\n",
    "for color, channel in zip('rgb', np.rollaxis(img432, axis=-1)):\n",
    "    counts, centers = exposure.histogram(channel)\n",
    "    plt.plot(centers[1::], counts[1::], color=color)\n",
    "\n",
    "plt.title('RGB Histogram')\n",
    "plt.xlim(5000, 14000)\n",
    "plt.show()"
   ]
  },
  {
   "cell_type": "code",
   "execution_count": null,
   "metadata": {
    "collapsed": true
   },
   "outputs": [],
   "source": [
    "img432_ha = np.empty(img432.shape, dtype='uint16')\n",
    "lims = [(6000,13000), (7000, 12000), (7800, 11500)]\n",
    "for lim, channel in zip(lims, range(3)):\n",
    "    img432_ha[:, :, channel] = exposure.rescale_intensity(img432[:, :, channel], lim)\n",
    "\n",
    "color_image_show(img432_ha, '4-3-2 image, histogram equilized')"
   ]
  }
 ],
 "metadata": {
  "kernelspec": {
   "display_name": "Python 3",
   "language": "python",
   "name": "python3"
  },
  "language_info": {
   "codemirror_mode": {
    "name": "ipython",
    "version": 3
   },
   "file_extension": ".py",
   "mimetype": "text/x-python",
   "name": "python",
   "nbconvert_exporter": "python",
   "pygments_lexer": "ipython3",
   "version": "3.5.2"
  }
 },
 "nbformat": 4,
 "nbformat_minor": 2
}
