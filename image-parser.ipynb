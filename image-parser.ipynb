{
 "cells": [
  {
   "cell_type": "code",
   "execution_count": 2,
   "metadata": {
    "collapsed": false,
    "deletable": true,
    "editable": true
   },
   "outputs": [],
   "source": [
    "%matplotlib inline\n",
    "from IPython.core.interactiveshell import InteractiveShell\n",
    "InteractiveShell.ast_node_interactivity = \"all\"\n",
    "import numpy as np\n",
    "from skimage import io, exposure\n",
    "from matplotlib import pyplot as plt"
   ]
  },
  {
   "cell_type": "markdown",
   "metadata": {},
   "source": [
    "![](https://www.researchgate.net/profile/Muhammad_Fahmi_Razali/publication/270511699/figure/fig1/AS:392169782300676@1470511970680/Figure-1-The-spectral-bands-of-Landsat-8-OLI-and-TIRS-compared-to-Landsat-7-ETM.png)"
   ]
  },
  {
   "cell_type": "code",
   "execution_count": 3,
   "metadata": {
    "collapsed": true,
    "deletable": true,
    "editable": true
   },
   "outputs": [],
   "source": [
    "import os\n",
    "\n",
    "data_dir_name = 'LC08_L1TP_220071_20160409_20170326_01_T1'\n",
    "data_dir_path = './GPAM_dataset/LC08_L1TP_220071_20160409_20170326_01_T1/'\n",
    "\n",
    "def read_band(directory, n):\n",
    "    if n in range(1, 12):\n",
    "        band_path = directory + data_dir_name + '_B' + str(n) + '.TIF'\n",
    "        if (os.path.isfile(band_path)):\n",
    "            img = io.imread(band_path)\n",
    "            print('Image:', band_path)            \n",
    "            return img\n",
    "        else:\n",
    "            print('Image:', band_path, 'not found!')\n",
    "    else:\n",
    "        print('Band number has to be in the range 1-11!')\n",
    "\n",
    "read_band(data_dir_path, 5)"
   ]
  },
  {
   "cell_type": "code",
   "execution_count": 1,
   "metadata": {
    "collapsed": true,
    "deletable": true,
    "editable": true
   },
   "outputs": [],
   "source": [
    "%%time\n",
    "import re\n",
    "from math import pow\n",
    "\n",
    "def show_image(img, title):\n",
    "    fig = plt.figure(figsize=(12, 12))\n",
    "    fig.set_facecolor('white')    \n",
    "    img_dim = pow(2, get_image_dimension(img)) - 1\n",
    "    plt.imshow(img/img_dim)\n",
    "    plt.title(title)\n",
    "    plt.show()\n",
    "\n",
    "def get_image_dimension(img):\n",
    "    dim = re.findall(r'\\d+', str(img.dtype))\n",
    "    dim = int(dim[0])\n",
    "    return dim\n",
    "      \n",
    "show_image(read_band(data_dir_path, 2), 'Landsat 8 Imagery')"
   ]
  },
  {
   "cell_type": "code",
   "execution_count": null,
   "metadata": {
    "collapsed": true,
    "deletable": true,
    "editable": true
   },
   "outputs": [],
   "source": [
    "def stack_bands(directory, *args):\n",
    "    b = []\n",
    "    for idx, band in enumerate(args):\n",
    "        b.append(read_band(directory, band))\n",
    "    stack = np.dstack(b)\n",
    "    return stack\n",
    "\n",
    "rgb = stack_bands(data_dir_path, 4, 3, 2)def equalize_image(img):\n",
    "    eq_img = np.empty(img.shape, dtype=img.dtype)\n",
    "    lims = [(5000,18000), (6000, 23000), (10000, 25000)]\n",
    "    for lim, channel in zip(lims, range(3)):\n",
    "        eq_img[:, :, channel] = exposure.rescale_intensity(img[:, :, channel], lim)\n",
    "    return eq_img\n",
    "\n",
    "eq_img_765 = equalize_image(img_765)\n",
    "color_image_show(eq_img_765, '7-6-5 image, histogram equilized')\n",
    "show_image(rgb, 'RGB Stack')\n",
    "img_765 = stack_bands(data_dir_path, 7, 6, 5)\n",
    "show_image(img_765, 'Bands 7, 6, 5')"
   ]
  },
  {
   "cell_type": "code",
   "execution_count": null,
   "metadata": {
    "collapsed": true,
    "deletable": true,
    "editable": true
   },
   "outputs": [],
   "source": [
    "# python histogram cut\n",
    "# other function: get image dimension and cut % of frequency desired (not null)\n",
    "# get xmin = 0 and xmax = 255\n",
    "def get_image_lims(freq):\n",
    "    pass\n",
    "\n",
    "def rgb_histogram(image):\n",
    "    fig = plt.figure(figsize=(14, 7))\n",
    "    fig.set_facecolor('white')\n",
    "\n",
    "    for color, channel in zip('rgb', np.rollaxis(image, axis=-1)):\n",
    "        counts, centers = exposure.histogram(channel)\n",
    "        plt.plot(centers[1::], counts[1::], color=color)\n",
    "\n",
    "    plt.title('RGB Histogram')\n",
    "    plt.show()\n",
    "    \n",
    "rgb_histogram(rgb)"
   ]
  },
  {
   "cell_type": "code",
   "execution_count": null,
   "metadata": {
    "collapsed": true,
    "deletable": true,
    "editable": true
   },
   "outputs": [],
   "source": [
    "def equalize_image(img):\n",
    "    eq_img = np.empty(img.shape, dtype=img.dtype)\n",
    "    # Fix hard coded values  \n",
    "    lims = [(5000,18000), (6000, 23000), (10000, 25000)]\n",
    "    for lim, channel in zip(lims, range(3)):\n",
    "        eq_img[:, :, channel] = exposure.rescale_intensity(img[:, :, channel], lim)\n",
    "    return eq_img\n",
    "\n",
    "eq_img_765 = equalize_image(img_765)\n",
    "color_image_show(eq_img_765, '7-6-5 image, histogram equilized')"
   ]
  },
  {
   "cell_type": "code",
   "execution_count": null,
   "metadata": {
    "collapsed": true
   },
   "outputs": [],
   "source": [
    "def adjust_gamma(image):\n",
    "    image[:, :, 1] = exposure.adjust_gamma(image[:, :, 1], 0.65)\n",
    "    image[:, :, 2] = exposure.adjust_gamma(image[:, :, 2], 0.75)\n",
    "    return image\n",
    "\n",
    "adj_image = adjust_gamma(img432_ha)\n",
    "color_image_show(adj_image, '4-3-2 image, histogram equilized, color gamma adjusted')"
   ]
  }
 ],
 "metadata": {
  "kernelspec": {
   "display_name": "Python 3",
   "language": "python",
   "name": "python3"
  },
  "language_info": {
   "codemirror_mode": {
    "name": "ipython",
    "version": 3
   },
   "file_extension": ".py",
   "mimetype": "text/x-python",
   "name": "python",
   "nbconvert_exporter": "python",
   "pygments_lexer": "ipython3",
   "version": "3.5.2"
  }
 },
 "nbformat": 4,
 "nbformat_minor": 2
}
