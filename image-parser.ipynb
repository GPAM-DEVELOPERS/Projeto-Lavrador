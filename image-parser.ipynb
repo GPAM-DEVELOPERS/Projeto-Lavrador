{
 "cells": [
  {
   "cell_type": "code",
   "execution_count": 2,
   "metadata": {
    "collapsed": false,
    "deletable": true,
    "editable": true
   },
   "outputs": [],
   "source": [
    "%matplotlib inline\n",
    "import numpy as np\n",
    "from skimage import io, exposure\n",
    "from matplotlib import pyplot as plt"
   ]
  },
  {
   "cell_type": "code",
   "execution_count": 3,
   "metadata": {
    "collapsed": true,
    "deletable": true,
    "editable": true
   },
   "outputs": [],
   "source": [
    "def read_band(n):\n",
    "    if n in range(1, 12):\n",
    "        tif_list = !ls *.TIF\n",
    "        band_name = 'B' + str(n) + '.TIF'\n",
    "        img_idx = [idx for idx, band_string in enumerate(tif_list) if band_name in band_string]\n",
    "        img = io.imread(tif_list[img_idx[0]])\n",
    "        return img\n",
    "    else:\n",
    "        print('Band number has to be in the range 1-11!')"
   ]
  },
  {
   "cell_type": "code",
   "execution_count": 1,
   "metadata": {
    "collapsed": true,
    "deletable": true,
    "editable": true
   },
   "outputs": [],
   "source": [
    "def color_image_show(img, title):\n",
    "    fig = plt.figure(figsize=(10, 10))\n",
    "    fig.set_facecolor('white')\n",
    "    plt.imshow(img/65535)\n",
    "    plt.title(title)\n",
    "    plt.show()"
   ]
  }
 ],
 "metadata": {
  "kernelspec": {
   "display_name": "Python 3",
   "language": "python",
   "name": "python3"
  },
  "language_info": {
   "codemirror_mode": {
    "name": "ipython",
    "version": 3
   },
   "file_extension": ".py",
   "mimetype": "text/x-python",
   "name": "python",
   "nbconvert_exporter": "python",
   "pygments_lexer": "ipython3",
   "version": "3.5.2"
  }
 },
 "nbformat": 4,
 "nbformat_minor": 2
}
